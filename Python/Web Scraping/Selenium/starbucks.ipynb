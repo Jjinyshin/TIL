{
 "cells": [
  {
   "cell_type": "code",
   "execution_count": 50,
   "metadata": {},
   "outputs": [],
   "source": [
    "import pandas as pd\n",
    "import json\n",
    "import time\n",
    "from time import sleep\n",
    "\n",
    "from selenium import webdriver\n",
    "from selenium.webdriver.common.by import By\n",
    "from selenium.webdriver.common.keys import Keys\n",
    "from selenium.webdriver.support import expected_conditions as EC\n",
    "from selenium.webdriver.support.ui import WebDriverWait"
   ]
  },
  {
   "cell_type": "code",
   "execution_count": 51,
   "metadata": {},
   "outputs": [],
   "source": [
    "# --크롬창을 숨기고 실행-- driver에 options를 추가해주면된다\n",
    "# options = webdriver.ChromeOptions()\n",
    "# options.add_argument('headless')\n",
    "\n",
    "driver = webdriver.Chrome()\n",
    "# 스크래핑할 사이트 주소\n",
    "url = \"https://map.naver.com/v5/search/서울 스타벅스\"\n",
    "driver.get(url)\n",
    "\n",
    "# css 찾기까지 10초 대기\n",
    "def time_wait(num, code):\n",
    "    try:\n",
    "        wait = WebDriverWait(driver, num).until(\n",
    "            EC.presence_of_element_located((By.CSS_SELECTOR, code)))\n",
    "    except:\n",
    "        print(code, '태그 못찾음')\n",
    "        driver.quit()\n",
    "    return wait\n",
    "\n",
    "# frame 변경 메소드\n",
    "def switch_frame(frame):\n",
    "    driver.switch_to.default_content()  # frame 초기화\n",
    "    driver.switch_to.frame(frame)  # frame 변경\n",
    "\n",
    "# 페이지 다운\n",
    "def page_down(num):\n",
    "    body = driver.find_element(By.CSS_SELECTOR, 'body')\n",
    "    body.click()\n",
    "    for i in range(num):\n",
    "        body.send_keys(Keys.PAGE_DOWN)\n",
    "\n",
    "# frame 변경\n",
    "switch_frame('searchIframe')\n",
    "page_down(40)\n",
    "sleep(3)\n",
    "\n",
    "# 스벅 리스트\n",
    "sbuck_list = driver.find_elements(By.CSS_SELECTOR, 'li.UEzoS')\n",
    "# 스벅 매장이름\n",
    "names = driver.find_elements(By.CSS_SELECTOR, '.TYaxT')\n",
    "# 매장 주소\n",
    "addr = driver.find_elements(By.CSS_SELECTOR, '.hClKF')\n",
    "# 페이지 리스트(다음 페이지)\n",
    "next_btn = driver.find_elements(By.CSS_SELECTOR, '.eUTV2')"
   ]
  },
  {
   "cell_type": "code",
   "execution_count": 52,
   "metadata": {},
   "outputs": [
    {
     "name": "stdout",
     "output_type": "stream",
     "text": [
      "서울 마포구 망원동\n"
     ]
    }
   ],
   "source": [
    "# 테스트 코드\n",
    "print(addr[2].text)"
   ]
  },
  {
   "cell_type": "code",
   "execution_count": 53,
   "metadata": {},
   "outputs": [
    {
     "name": "stdout",
     "output_type": "stream",
     "text": [
      "[스크래핑 시작...]\n",
      "0스타벅스 더북한산점 서울 은평구 진관동\n",
      "1스타벅스 경동1960점 서울 동대문구 제기동\n",
      "2스타벅스 망원한강공원점 서울 마포구 망원동\n",
      "3스타벅스 서울웨이브아트센터점 서울 서초구 잠원동\n",
      "4스타벅스 별다방점 서울 중구 회현동2가\n",
      "5스타벅스 파미에파크R점 서울 서초구 반포동\n",
      "6스타벅스 더종로R점 서울 종로구 종로2가\n",
      "7스타벅스 강남구청정문점 서울 강남구 청담동\n",
      "8스타벅스 서대문역점 서울 종로구 평동\n",
      "9스타벅스 강남R점 서울 강남구 역삼동\n",
      "10스타벅스 서울역사점 서울 용산구 동자동\n",
      "11스타벅스 한국프레스센터점 서울 중구 태평로1가\n",
      "12스타벅스 레스케이프호텔R점 서울 중구 회현동1가\n",
      "13스타벅스 시청점 서울 중구 을지로1가\n",
      "14스타벅스 청량리역사점 서울 동대문구 전농동\n",
      "15스타벅스 강동역점 서울 강동구 천호동\n",
      "16스타벅스 잠실시그마타워점 서울 송파구 신천동\n",
      "17스타벅스 마곡사이언스타워R점 서울 강서구 마곡동\n",
      "18스타벅스 용산아이파크몰점 서울 용산구 한강로3가\n",
      "19스타벅스 환구단점 서울 중구 소공동\n",
      "20스타벅스 여의도IFC몰(L1)R점 서울 영등포구 여의도동\n",
      "21스타벅스 스타필드코엑스몰R점 서울 강남구 삼성동\n",
      "22스타벅스 광화문점 서울 종로구 세종로\n",
      "23스타벅스 보라매공원R점 서울 동작구 신대방동\n",
      "24스타벅스 봉천역점 서울 관악구 봉천동\n",
      "25스타벅스 강남2점 서울 서초구 서초동\n",
      "26스타벅스 더현대서울(B2)R점 서울 영등포구 여의도동\n",
      "27스타벅스 무교로점 서울 중구 무교동\n",
      "28스타벅스 코엑스몰점 서울 강남구 삼성동\n",
      "29스타벅스 서울대역점 서울 관악구 봉천동\n",
      "30스타벅스리저브더현대서울 서울 영등포구 여의도동\n",
      "31스타벅스 구로고척점 서울 구로구 고척동\n",
      "32스타벅스 성신여대점 서울 성북구 동선동1가\n",
      "33스타벅스 왕십리역9번출구점 서울 성동구 행당동\n",
      "34스타벅스 사당역점 서울 동작구 사당동\n",
      "35스타벅스 용산역써밋R점 서울 용산구 한강로2가\n",
      "36스타벅스 센트럴시티점 서울 서초구 반포동\n",
      "37스타벅스 신용산역점 서울 용산구 한강로2가\n",
      "38스타벅스 마곡나루공원점 서울 강서구 마곡동\n",
      "39스타벅스 공덕점 서울 마포구 공덕동\n",
      "40스타벅스 종로3가점 서울 종로구 종로3가\n",
      "41스타벅스 노원역점 서울 노원구 상계동\n",
      "42스타벅스 코엑스아셈타워점 서울 강남구 삼성동\n",
      "43스타벅스 청담사거리점 서울 강남구 청담동\n",
      "44스타벅스 송파NC점 서울 송파구 문정동\n",
      "45스타벅스 역삼아레나빌딩점 서울 강남구 역삼동\n",
      "46스타벅스 잠실대교남단R점 서울 송파구 신천동\n",
      "47스타벅스 사가정역점 서울 중랑구 면목동\n",
      "48스타벅스 압구정역점 서울 강남구 신사동\n",
      "49스타벅스 신림DT점 서울 관악구 신림동\n",
      "[데이터 수집 완료]\n",
      "소요 시간 : 54.01615786552429\n"
     ]
    }
   ],
   "source": [
    "# 매장 정보 리스트 만들기\n",
    "starbucks_list = []\n",
    "# 시작시간\n",
    "start = time.time()\n",
    "print('[스크래핑 시작...]')\n",
    "\n",
    "# 스크래핑 과정\n",
    "for btn in range(len(next_btn))[1:]:  # '<' 버튼 무시\n",
    "  for sbuck in range(len(sbuck_list)):\n",
    "    print(sbuck, end=\" \")\n",
    "    sleep(1)\n",
    "\n",
    "    try:\n",
    "      # 주소변수 초기화\n",
    "      address = ''\n",
    "\n",
    "      # 스타벅스 매장이름 가져오기\n",
    "      sbuck_name = names[sbuck].text\n",
    "      print(sbuck_name, end=\" \")\n",
    "\n",
    "      # 주소 가져오기 - 서울 00구 XX동 형식\n",
    "      address = addr[sbuck].text\n",
    "      print(address)\n",
    "\n",
    "      dict_temp = {\n",
    "      'Name': sbuck_name,\n",
    "      'Address': address,\n",
    "      }\n",
    "\n",
    "      starbucks_list.append(dict_temp)\n",
    "    except Exception as e:\n",
    "      print(e)\n",
    "      print('ERROR!' * 3)\n",
    "  # 다음 페이지 버튼 누를 수 없으면 종료\n",
    "  if not next_btn[-1].is_enabled():\n",
    "      break\n",
    "\n",
    "  if names[-1]:  # 마지막 주차장일 경우 다음버튼 클릭\n",
    "      next_btn[-1].click()\n",
    "\n",
    "      sleep(2)\n",
    "\n",
    "  else:\n",
    "      print('페이지 인식 못함')\n",
    "      break\n",
    "\n",
    "print('[데이터 수집 완료]\\n소요 시간 :', time.time() - start)\n",
    "# 작업 종료 후 창닫기\n",
    "driver.quit()"
   ]
  },
  {
   "cell_type": "code",
   "execution_count": 57,
   "metadata": {},
   "outputs": [
    {
     "name": "stdout",
     "output_type": "stream",
     "text": [
      "[{'Name': '스타벅스 더북한산점', 'Address': '서울 은평구 진관동'}, {'Name': '스타벅스 경동1960점', 'Address': '서울 동대문구 제기동'}, {'Name': '스타벅스 망원한강공원점', 'Address': '서울 마포구 망원동'}, {'Name': '스타벅스 서울웨이브아트센터점', 'Address': '서울 서초구 잠원동'}, {'Name': '스타벅스 별다방점', 'Address': '서울 중구 회현동2가'}, {'Name': '스타벅스 파미에파크R점', 'Address': '서울 서초구 반포동'}, {'Name': '스타벅스 더종로R점', 'Address': '서울 종로구 종로2가'}, {'Name': '스타벅스 강남구청정문점', 'Address': '서울 강남구 청담동'}, {'Name': '스타벅스 서대문역점', 'Address': '서울 종로구 평동'}, {'Name': '스타벅스 강남R점', 'Address': '서울 강남구 역삼동'}, {'Name': '스타벅스 서울역사점', 'Address': '서울 용산구 동자동'}, {'Name': '스타벅스 한국프레스센터점', 'Address': '서울 중구 태평로1가'}, {'Name': '스타벅스 레스케이프호텔R점', 'Address': '서울 중구 회현동1가'}, {'Name': '스타벅스 시청점', 'Address': '서울 중구 을지로1가'}, {'Name': '스타벅스 청량리역사점', 'Address': '서울 동대문구 전농동'}, {'Name': '스타벅스 강동역점', 'Address': '서울 강동구 천호동'}, {'Name': '스타벅스 잠실시그마타워점', 'Address': '서울 송파구 신천동'}, {'Name': '스타벅스 마곡사이언스타워R점', 'Address': '서울 강서구 마곡동'}, {'Name': '스타벅스 용산아이파크몰점', 'Address': '서울 용산구 한강로3가'}, {'Name': '스타벅스 환구단점', 'Address': '서울 중구 소공동'}, {'Name': '스타벅스 여의도IFC몰(L1)R점', 'Address': '서울 영등포구 여의도동'}, {'Name': '스타벅스 스타필드코엑스몰R점', 'Address': '서울 강남구 삼성동'}, {'Name': '스타벅스 광화문점', 'Address': '서울 종로구 세종로'}, {'Name': '스타벅스 보라매공원R점', 'Address': '서울 동작구 신대방동'}, {'Name': '스타벅스 봉천역점', 'Address': '서울 관악구 봉천동'}, {'Name': '스타벅스 강남2점', 'Address': '서울 서초구 서초동'}, {'Name': '스타벅스 더현대서울(B2)R점', 'Address': '서울 영등포구 여의도동'}, {'Name': '스타벅스 무교로점', 'Address': '서울 중구 무교동'}, {'Name': '스타벅스 코엑스몰점', 'Address': '서울 강남구 삼성동'}, {'Name': '스타벅스 서울대역점', 'Address': '서울 관악구 봉천동'}, {'Name': '스타벅스리저브더현대서울', 'Address': '서울 영등포구 여의도동'}, {'Name': '스타벅스 구로고척점', 'Address': '서울 구로구 고척동'}, {'Name': '스타벅스 성신여대점', 'Address': '서울 성북구 동선동1가'}, {'Name': '스타벅스 왕십리역9번출구점', 'Address': '서울 성동구 행당동'}, {'Name': '스타벅스 사당역점', 'Address': '서울 동작구 사당동'}, {'Name': '스타벅스 용산역써밋R점', 'Address': '서울 용산구 한강로2가'}, {'Name': '스타벅스 센트럴시티점', 'Address': '서울 서초구 반포동'}, {'Name': '스타벅스 신용산역점', 'Address': '서울 용산구 한강로2가'}, {'Name': '스타벅스 마곡나루공원점', 'Address': '서울 강서구 마곡동'}, {'Name': '스타벅스 공덕점', 'Address': '서울 마포구 공덕동'}, {'Name': '스타벅스 종로3가점', 'Address': '서울 종로구 종로3가'}, {'Name': '스타벅스 노원역점', 'Address': '서울 노원구 상계동'}, {'Name': '스타벅스 코엑스아셈타워점', 'Address': '서울 강남구 삼성동'}, {'Name': '스타벅스 청담사거리점', 'Address': '서울 강남구 청담동'}, {'Name': '스타벅스 송파NC점', 'Address': '서울 송파구 문정동'}, {'Name': '스타벅스 역삼아레나빌딩점', 'Address': '서울 강남구 역삼동'}, {'Name': '스타벅스 잠실대교남단R점', 'Address': '서울 송파구 신천동'}, {'Name': '스타벅스 사가정역점', 'Address': '서울 중랑구 면목동'}, {'Name': '스타벅스 압구정역점', 'Address': '서울 강남구 신사동'}, {'Name': '스타벅스 신림DT점', 'Address': '서울 관악구 신림동'}]\n"
     ]
    }
   ],
   "source": [
    "print(starbucks_list)"
   ]
  },
  {
   "cell_type": "code",
   "execution_count": 58,
   "metadata": {},
   "outputs": [],
   "source": [
    "df = pd.DataFrame(starbucks_list)"
   ]
  },
  {
   "cell_type": "code",
   "execution_count": 60,
   "metadata": {},
   "outputs": [
    {
     "data": {
      "text/html": [
       "<div>\n",
       "<style scoped>\n",
       "    .dataframe tbody tr th:only-of-type {\n",
       "        vertical-align: middle;\n",
       "    }\n",
       "\n",
       "    .dataframe tbody tr th {\n",
       "        vertical-align: top;\n",
       "    }\n",
       "\n",
       "    .dataframe thead th {\n",
       "        text-align: right;\n",
       "    }\n",
       "</style>\n",
       "<table border=\"1\" class=\"dataframe\">\n",
       "  <thead>\n",
       "    <tr style=\"text-align: right;\">\n",
       "      <th></th>\n",
       "      <th>Name</th>\n",
       "      <th>Address</th>\n",
       "    </tr>\n",
       "  </thead>\n",
       "  <tbody>\n",
       "    <tr>\n",
       "      <th>0</th>\n",
       "      <td>스타벅스 더북한산점</td>\n",
       "      <td>서울 은평구 진관동</td>\n",
       "    </tr>\n",
       "    <tr>\n",
       "      <th>1</th>\n",
       "      <td>스타벅스 경동1960점</td>\n",
       "      <td>서울 동대문구 제기동</td>\n",
       "    </tr>\n",
       "    <tr>\n",
       "      <th>2</th>\n",
       "      <td>스타벅스 망원한강공원점</td>\n",
       "      <td>서울 마포구 망원동</td>\n",
       "    </tr>\n",
       "    <tr>\n",
       "      <th>3</th>\n",
       "      <td>스타벅스 서울웨이브아트센터점</td>\n",
       "      <td>서울 서초구 잠원동</td>\n",
       "    </tr>\n",
       "    <tr>\n",
       "      <th>4</th>\n",
       "      <td>스타벅스 별다방점</td>\n",
       "      <td>서울 중구 회현동2가</td>\n",
       "    </tr>\n",
       "  </tbody>\n",
       "</table>\n",
       "</div>"
      ],
      "text/plain": [
       "              Name      Address\n",
       "0       스타벅스 더북한산점   서울 은평구 진관동\n",
       "1     스타벅스 경동1960점  서울 동대문구 제기동\n",
       "2     스타벅스 망원한강공원점   서울 마포구 망원동\n",
       "3  스타벅스 서울웨이브아트센터점   서울 서초구 잠원동\n",
       "4        스타벅스 별다방점  서울 중구 회현동2가"
      ]
     },
     "execution_count": 60,
     "metadata": {},
     "output_type": "execute_result"
    }
   ],
   "source": [
    "df.head(5)"
   ]
  },
  {
   "attachments": {},
   "cell_type": "markdown",
   "metadata": {},
   "source": [
    "Name(장소명), Address(도로명주소), Rating(별점), 조건에 따른 Review1,2\n",
    "- [ ] dataframe변환하고 csv 저장까지 하기\n",
    "- [ ] 다음 버튼이 안먹힘\n",
    "- [ ] column들 추가\n",
    "  - [ ] Rating(별점): 있or없\n",
    "  - [ ] Review: 1 or 2 or 1and2\n",
    "- [ ] refactoring: 주소 시 없애고 구, 동만 남기고 컬럼추가"
   ]
  }
 ],
 "metadata": {
  "kernelspec": {
   "display_name": "pybook",
   "language": "python",
   "name": "python3"
  },
  "language_info": {
   "codemirror_mode": {
    "name": "ipython",
    "version": 3
   },
   "file_extension": ".py",
   "mimetype": "text/x-python",
   "name": "python",
   "nbconvert_exporter": "python",
   "pygments_lexer": "ipython3",
   "version": "3.7.16"
  },
  "orig_nbformat": 4
 },
 "nbformat": 4,
 "nbformat_minor": 2
}
