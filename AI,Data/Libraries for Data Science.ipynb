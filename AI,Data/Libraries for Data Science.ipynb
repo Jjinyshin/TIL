{
 "cells": [
  {
   "attachments": {},
   "cell_type": "markdown",
   "metadata": {},
   "source": [
    "데이터 과학, ML 분야에서 자주 쓰이는 파이썬 라이브러리인 NumPy, Pandas, Matplotlib, TensorFlow, PyTorch, Scipy, scikit-learn 쓰다가 남겨보는 끄적끄적...기록"
   ]
  },
  {
   "attachments": {},
   "cell_type": "markdown",
   "metadata": {},
   "source": [
    "# Numpy"
   ]
  },
  {
   "cell_type": "code",
   "execution_count": 5,
   "metadata": {},
   "outputs": [],
   "source": [
    "import numpy as np"
   ]
  },
  {
   "cell_type": "code",
   "execution_count": 9,
   "metadata": {},
   "outputs": [
    {
     "name": "stdout",
     "output_type": "stream",
     "text": [
      "[[1 1 1]\n",
      " [2 2 2]\n",
      " [3 3 3]]\n",
      "[[1.         0.5        0.33333333]\n",
      " [2.         1.         0.66666667]\n",
      " [3.         1.5        1.        ]]\n",
      "[1 2 3]\n",
      "[[1]\n",
      " [2]\n",
      " [3]]\n",
      "[[1. 1. 1.]\n",
      " [1. 1. 1.]\n",
      " [1. 1. 1.]]\n",
      "[[1.         0.5        0.33333333]\n",
      " [2.         1.         0.66666667]\n",
      " [3.         1.5        1.        ]]\n"
     ]
    }
   ],
   "source": [
    "# TODO: Divide each row by a vector element\n",
    "data = np.array([[1, 1, 1], [2, 2, 2], [3, 3, 3]])\n",
    "vector = np.array([1, 2, 3])\n",
    "\n",
    "print(data)\n",
    "print(data / vector)\n",
    "print(vector)\n",
    "print(vector.reshape(-1, 1))\n",
    "print(data / vector.reshape(-1, 1))\n",
    "print(data / vector.reshape(1, -1))"
   ]
  },
  {
   "attachments": {},
   "cell_type": "markdown",
   "metadata": {},
   "source": [
    "- [출처: 스택오버플로우](https://stackoverflow.com/questions/19602187/numpy-divide-each-row-by-a-vector-element)\n",
    "- 핵심: 각 행을 각 원소로 나누려면 size(3,)짜리 벡터를 (3,1)짜리 벡터로 reshape해야한다는 것!\n",
    "  - size(3,)인 벡터로 나누면 size(1,3)으로 나눈 결과와 똑같아짐 => 이것은 각 열을 각 원소로 나눈 결과다!\n",
    "  - +) 이런 조건을 충족하면 넘파이 연산 시 브로드캐스팅이 일어나서 (3,1) -> (3,3)으로 shape이 확장됨"
   ]
  },
  {
   "cell_type": "code",
   "execution_count": null,
   "metadata": {},
   "outputs": [],
   "source": []
  }
 ],
 "metadata": {
  "kernelspec": {
   "display_name": "pybook",
   "language": "python",
   "name": "python3"
  },
  "language_info": {
   "codemirror_mode": {
    "name": "ipython",
    "version": 3
   },
   "file_extension": ".py",
   "mimetype": "text/x-python",
   "name": "python",
   "nbconvert_exporter": "python",
   "pygments_lexer": "ipython3",
   "version": "3.9.7"
  },
  "orig_nbformat": 4
 },
 "nbformat": 4,
 "nbformat_minor": 2
}
