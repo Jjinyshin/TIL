{
 "cells": [
  {
   "cell_type": "markdown",
   "id": "842ed95c",
   "metadata": {},
   "source": [
    "출처: https://github.com/yoonkt200/python-data-analysis/blob/master/chapter2/(4%EC%87%84%20%ED%81%AC%EB%A1%A4%EB%A7%81%20%EB%B3%80%EA%B2%BD%20%EC%98%88%EC%A0%9C)%20naver-news-crawling.ipynb"
   ]
  },
  {
   "cell_type": "code",
   "execution_count": 2,
   "id": "be8fd928",
   "metadata": {},
   "outputs": [],
   "source": [
    "import pandas as pd\n",
    "from selenium import webdriver\n",
    "from bs4 import BeautifulSoup\n",
    "import re\n",
    "\n",
    "# 크롤링할 사이트 주소를 입력합니다.\n",
    "source_url = \"https://news.naver.com/main/main.naver?mode=LSD&mid=shm&sid1=100\"\n",
    "\n",
    "# 사이트의 html 구조에 기반하여 크롤링을 수행합니다.\n",
    "driver = webdriver.Chrome()  # for Windows -> 셀레니움 update, path필요X\n",
    "driver.get(source_url)\n",
    "req = driver.page_source\n",
    "soup = BeautifulSoup(req, \"html.parser\")\n",
    "cluster_text = soup.find_all(name=\"div\", attrs={\"class\":\"cluster_text\"})"
   ]
  },
  {
   "cell_type": "code",
   "execution_count": 3,
   "id": "f96183e9",
   "metadata": {},
   "outputs": [
    {
     "data": {
      "text/plain": [
       "4"
      ]
     },
     "execution_count": 3,
     "metadata": {},
     "output_type": "execute_result"
    }
   ],
   "source": [
    "cluster_text # \"cluster_text\" class속성을 가진 요소들과 그 자식요소들이 묶여서 원소 1개임\n",
    "len(cluster_text) # 4"
   ]
  },
  {
   "cell_type": "code",
   "execution_count": 4,
   "id": "0e24f212",
   "metadata": {},
   "outputs": [
    {
     "name": "stdout",
     "output_type": "stream",
     "text": [
      "https://n.news.naver.com/mnews/hotissue/article/449/0000251687?type=series&cid=1088492\n",
      "https://n.news.naver.com/mnews/hotissue/article/449/0000251547?type=series&cid=1088492\n",
      "https://n.news.naver.com/mnews/hotissue/article/449/0000251827?type=series&cid=1088492\n",
      "https://n.news.naver.com/mnews/hotissue/article/449/0000251912?type=series&cid=1088492\n"
     ]
    }
   ],
   "source": [
    "# a태그의 href 속성을 리스트로 추출하여, 크롤링 할 페이지 리스트를 생성합니다.\n",
    "page_urls = []\n",
    "for index in range(0, len(cluster_text)):\n",
    "    cluster = cluster_text[index]\n",
    "    news_url = cluster.find(name=\"a\", attrs={\"class\":\"cluster_text_headline nclicks(pol.sera)\"}) # class name 예제랑 조금 바뀜\n",
    "    if news_url is not None:\n",
    "        page_urls.append(news_url.get(\"href\"))\n",
    "\n",
    "# 중복 url을 제거합니다.\n",
    "page_urls = list(set(page_urls))\n",
    "\n",
    "# 다섯 개의 페이지를 출력합니다.\n",
    "for page in page_urls[:5]:\n",
    "    print(page)\n",
    "\n",
    "# 크롤링에 사용한 브라우저를 종료합니다.\n",
    "driver.close()"
   ]
  },
  {
   "cell_type": "code",
   "execution_count": 6,
   "id": "e4d859c4",
   "metadata": {},
   "outputs": [
    {
     "name": "stdout",
     "output_type": "stream",
     "text": [
      "[아는기자]교육부 ‘이권 카르텔’ 지적…수능 쉬워지나\n",
      "\n",
      "\n",
      "\n",
      "\n",
      "\t\t\t[앵커]아는 기자, 아자 정치부 조아라 기자 나왔습니다.  Q. 교육이라는 게 워낙 민감한 이슈인데요. 툭 터져나온 감이 있어요?  윤석열 대통령, 어제 이주호 교육부 장관으로부터 교육 개혁 관련 보고를 받았는데요.  이 자리에서 윤 대통령이 사교육비 부담을 지적하며, 수능을 언급했습니다.  [이주호 / 사회부총리 겸 교육부 장관(어제)] \"(윤 대통령은) 대학수학능력시험과 관련하여 변별력은 갖추되 학교 수업만 열심히 따라가면 문제를 풀 수 있도록 출제하고 학교 수업에서 다루지 않은 내용은 출제에서 배제하라고 말씀하였습니다.\"  이 이야기를 들으면 여러분은 어떤 느낌이 드십니까?  많은 이들이 쉽게 내겠구나라고 생각했고, 이른바 '물수능'이 될 거라는 전망이 쏟아졌습니다.  대통령실은 4시간 만에 정정 공지를 냈는데요.  그러면서 이주호 장관에게 한 대통령의 추가 발언을 소개했습니다.  \"공교육 교과과정에서 다루지 않는 부분의 문제를 수능에서 출제하면, 사교육에 의존하라는 것 아니냐\" \"교육당국과 사교육 산업이 한 편, 즉 카르텔이란 말인가\"라고 지적했다고요. 윤 대통령 지시는 수능 난이도에 대한 게 아니라 입시에서의 공정성 복원에 초점이 맞춰져 있다는 게 대통령실의 설명입니다.  Q. \"이권 카르텔\"이라고 했던 데 정확히 뭘 의심하는 건가요?  오늘 교육부 차관의 이 발언을 들으면 이해가 되실텐데요.  이주호 장관은 '교육 당국과 사교육산업이 한통속으로 생각된다'는 대통령의 지적을 매우 무겁게 받아들이고 책임감을 느끼고 있다 그러니까 교육당국은 학교에서 알려주지 않는 문제를 내고, 사교육계는 족집게 수능 기술을 알려주면서 돈을 버는 유착관계가 있다고 의심하는 겁니다.  윤 대통령은 검사 시절부터 이런 유착 관계에 대해 강한 문제 의식을 갖고 있었던 것으로 전해졌습니다.  Q. 시청자들은 이런 게 궁금하신거 같아요. 카르텔이라고 볼만한 근거가 있나요?  아직 뚜렷한 물증까지 제시하진 못하는데요.  의심할 만한 정황이 있다고 합니다.  윤 대통령은 지난 3월, 이주호 장관에게 \"수능 관리를 잘 해달라\"는 별도 비공개 지시를 내렸는데요.  그 첫 시험대가 지난 1일에 치러진 6월 모의평가였습니다. 3개월 준비할 시간을 줬는데도, 모의 평가에서 교과과정 밖에서 문제가 나오자 이건 사교육계와 '이권 카르텔'이 있다고 본 겁니다.  우선 그 책임을 물어 대입담당 국장이 교체됐고, 이 모의평가를 낸 한국교육과정평가원 감사도 실시하기로 했는데요.  교육부 전반으로 감찰이 번질 가능성도 거론되고 있습니다.  Q. 6월 모의평가가 어땠기에 대통령이 이권 카르텔까지 의심하는 거에요?  윤 대통령은 콕 집어서, 과도한 배경 지식을 요구하거나 대학 전공 수준의 비문학 문항을 공교육에서 다루지 않는 문제로 지적했는데요.   제가 대통령실에 물어보니 이 문제를 예로 지적하고 있습니다.  6월 모의평가 국어 11번 문제인데요.  양자 역학을 다룬 지문이거든요.  과학적 지식이 없으면 한번에 이해해서 풀기 어려워 보이는 게 사실입니다. Q. 시청자 댓글을 보면 문제의 난이도가 도를 넘는다. 그만큼 어렵다는 의견이 있더라고요. 그래서 올해 수능은 쉬워지는 거에요?  대통령실은 쉽게 내겠다는 뜻이 아니라고 강조하는데요.  공교육 교과과정 내에서 변별력을 갖추겠다는 겁니다.  학원을 다녀야만 시험 점수가 잘 나오게 하지 않겠다는 거죠.  대통령실 핵심 관계자, 이렇게 말했습니다.  \"지금은 처음 보는 긴 지문을 시험 문제로 내면서 편하게 아이들을 골탕만 먹이고 있다\"  Q. 곧 사교육비 경감대책을 발표한다면서요. 그 발표 전에 불쑥 수능 이야기를 꺼내면서 혼선을 자초한 측면은 있어 보여요. 그렇습니다.  공교육 중심의 수능, 그리고 이권 카르텔이 있다면 적발해야 한다는데 공감하지 않으시는 분들은 없을 겁니다.  하지만 당장 올해 수능부터 뭘 바꾸겠다는 건지, 문제를 쉽게 내겠다는건지 헷갈리는 발표보다는 세심하게 로드맵을 짠 뒤 발표해야 한다는 지적이 나옵니다.\n",
      "\t\t\n",
      "\n"
     ]
    }
   ],
   "source": [
    "# 페이지 내 텍스트 구조 확인\n",
    "driver = webdriver.Chrome()\n",
    "driver.get(page_urls[0])\n",
    "req = driver.page_source\n",
    "soup = BeautifulSoup(req, 'html.parser')\n",
    "title_area = soup.find(name=\"div\", attrs={\"class\":\"media_end_head_title\"})\n",
    "title = title_area.find_all('h2')[0]\n",
    "content_paragraphs = soup.find(name=\"div\", attrs={\"class\":\"newsct_article\"})\n",
    "content_corpus = content_paragraphs.text\n",
    "\n",
    "print(title.text)\n",
    "print(\"\\n\")\n",
    "print(content_corpus)\n",
    "\n",
    "# 크롤링에 사용한 브라우저를 종료합니다.\n",
    "driver.close()"
   ]
  },
  {
   "cell_type": "markdown",
   "id": "d26a78cd",
   "metadata": {},
   "source": [
    "**네이버 뉴스 헤드라인 크롤링**"
   ]
  },
  {
   "cell_type": "code",
   "execution_count": 7,
   "id": "9ea66b16",
   "metadata": {},
   "outputs": [],
   "source": [
    "# 크롤링한 데이터를 데이터 프레임으로 만들기 위해 준비합니다.\n",
    "columns = [\"title\", \"content_text\"]\n",
    "df = pd.DataFrame(columns=columns)\n",
    "\n",
    "# 각 페이지별 '제목', '본문' 정보를 데이터 프레임으로 만듭니다.\n",
    "for page_url in page_urls:\n",
    "\n",
    "    # 사이트의 html 구조에 기반하여 크롤링을 수행합니다.\n",
    "    driver = webdriver.Chrome()  # for Windows\n",
    "    driver.get(page_url)\n",
    "    req = driver.page_source\n",
    "    soup = BeautifulSoup(req, \"html.parser\")\n",
    "\n",
    "    title_area = soup.find(name=\"div\", attrs={\"class\": \"media_end_head_title\"})\n",
    "    title = title_area.find_all('h2')[0]\n",
    "    content_paragraphs = soup.find(name=\"div\", attrs={\"class\": \"newsct_article\"})\n",
    "    content_corpus = content_paragraphs.text\n",
    "\n",
    "    # 제목 정보에서 개행 문자를 제거한 뒤 추출합니다. 만약 없는 경우, 빈 문자열로 대체합니다.\n",
    "    if title is not None:\n",
    "        row_title = title.text.replace(\"\\n\", \" \")\n",
    "    else:\n",
    "        row_title = \"\"\n",
    "\n",
    "    # 모든 정보를 하나의 데이터 프레임에 저장합니다.\n",
    "    row = [row_title, content_corpus]\n",
    "    series = pd.Series(row, index=df.columns)\n",
    "    df = df.append(series, ignore_index=True)\n",
    "\n",
    "    # 크롤링에 사용한 브라우저를 종료합니다.\n",
    "    driver.close()"
   ]
  },
  {
   "cell_type": "code",
   "execution_count": 8,
   "id": "cad43210",
   "metadata": {},
   "outputs": [
    {
     "data": {
      "text/html": [
       "<div>\n",
       "<style scoped>\n",
       "    .dataframe tbody tr th:only-of-type {\n",
       "        vertical-align: middle;\n",
       "    }\n",
       "\n",
       "    .dataframe tbody tr th {\n",
       "        vertical-align: top;\n",
       "    }\n",
       "\n",
       "    .dataframe thead th {\n",
       "        text-align: right;\n",
       "    }\n",
       "</style>\n",
       "<table border=\"1\" class=\"dataframe\">\n",
       "  <thead>\n",
       "    <tr style=\"text-align: right;\">\n",
       "      <th></th>\n",
       "      <th>title</th>\n",
       "      <th>content_text</th>\n",
       "    </tr>\n",
       "  </thead>\n",
       "  <tbody>\n",
       "    <tr>\n",
       "      <th>0</th>\n",
       "      <td>[아는기자]교육부 ‘이권 카르텔’ 지적…수능 쉬워지나</td>\n",
       "      <td>\\n\\n\\t\\t\\t[앵커]아는 기자, 아자 정치부 조아라 기자 나왔습니다.  Q. ...</td>\n",
       "    </tr>\n",
       "    <tr>\n",
       "      <th>1</th>\n",
       "      <td>[아는기자]尹 대통령, ‘태양광 장사’에 직접 나선 이유는?</td>\n",
       "      <td>\\n\\n\\t\\t\\t[앵커]아는 기자, 아자 정치부 조영민기자 나왔습니다.  Q1. ...</td>\n",
       "    </tr>\n",
       "    <tr>\n",
       "      <th>2</th>\n",
       "      <td>[아는기자]한국 vs 사우디 2파전…표차는?</td>\n",
       "      <td>\\n\\n\\t\\t\\t[앵커]아는기자, 아자 대통령실 출입하는 조아라 기자 나왔습니다....</td>\n",
       "    </tr>\n",
       "    <tr>\n",
       "      <th>3</th>\n",
       "      <td>[아는기자]“30분 숨 쉴 틈 없이”…엑스포 유치 4차 PT 전략은?</td>\n",
       "      <td>\\n\\n\\t\\t\\t[앵커]아는기자, 아자 대통령실 출입하는 조아라 기자 나왔습니다....</td>\n",
       "    </tr>\n",
       "  </tbody>\n",
       "</table>\n",
       "</div>"
      ],
      "text/plain": [
       "                                    title  \\\n",
       "0           [아는기자]교육부 ‘이권 카르텔’ 지적…수능 쉬워지나   \n",
       "1       [아는기자]尹 대통령, ‘태양광 장사’에 직접 나선 이유는?   \n",
       "2                [아는기자]한국 vs 사우디 2파전…표차는?   \n",
       "3  [아는기자]“30분 숨 쉴 틈 없이”…엑스포 유치 4차 PT 전략은?   \n",
       "\n",
       "                                        content_text  \n",
       "0  \\n\\n\\t\\t\\t[앵커]아는 기자, 아자 정치부 조아라 기자 나왔습니다.  Q. ...  \n",
       "1  \\n\\n\\t\\t\\t[앵커]아는 기자, 아자 정치부 조영민기자 나왔습니다.  Q1. ...  \n",
       "2  \\n\\n\\t\\t\\t[앵커]아는기자, 아자 대통령실 출입하는 조아라 기자 나왔습니다....  \n",
       "3  \\n\\n\\t\\t\\t[앵커]아는기자, 아자 대통령실 출입하는 조아라 기자 나왔습니다....  "
      ]
     },
     "execution_count": 8,
     "metadata": {},
     "output_type": "execute_result"
    }
   ],
   "source": [
    "df.head()"
   ]
  },
  {
   "cell_type": "code",
   "execution_count": null,
   "id": "3d5c7c37",
   "metadata": {},
   "outputs": [],
   "source": []
  }
 ],
 "metadata": {
  "kernelspec": {
   "display_name": "Python 3 (ipykernel)",
   "language": "python",
   "name": "python3"
  },
  "language_info": {
   "codemirror_mode": {
    "name": "ipython",
    "version": 3
   },
   "file_extension": ".py",
   "mimetype": "text/x-python",
   "name": "python",
   "nbconvert_exporter": "python",
   "pygments_lexer": "ipython3",
   "version": "3.7.16"
  },
  "toc": {
   "base_numbering": 1,
   "nav_menu": {},
   "number_sections": true,
   "sideBar": true,
   "skip_h1_title": false,
   "title_cell": "Table of Contents",
   "title_sidebar": "Contents",
   "toc_cell": false,
   "toc_position": {},
   "toc_section_display": true,
   "toc_window_display": false
  }
 },
 "nbformat": 4,
 "nbformat_minor": 5
}
